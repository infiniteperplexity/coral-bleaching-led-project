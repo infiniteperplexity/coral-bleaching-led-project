{
 "cells": [
  {
   "cell_type": "code",
   "execution_count": 1,
   "metadata": {},
   "outputs": [
    {
     "name": "stdout",
     "output_type": "stream",
     "text": [
      "True\n",
      "https://pae-paha.pacioos.hawaii.edu/erddap/griddap/dhw_5km.csv?CRW_DHW[(2020-01-01T12:00:00Z):1:(2020-05-17T12:00:00Z)][(17.175):1:(17.175)][(-87.325):1:(-87.325)],CRW_SST[(2020-01-01T12:00:00Z):1:(2020-05-17T12:00:00Z)][(17.175):1:(17.175)][(-87.325):1:(-87.325)]\n",
      "https://pae-paha.pacioos.hawaii.edu/erddap/griddap/dhw_5km.csv?CRW_DHW[(2020-01-01T12:00:00Z):1:(2020-05-17T12:00:00Z)][(17.175):1:(17.175)][(-87.325):1:(-87.325)],CRW_SST[(2020-01-01T12:00:00Z):1:(2020-05-17T12:00:00Z)][(17.175):1:(17.175)][(-87.325):1:(-87.325)]\n"
     ]
    }
   ],
   "source": [
    "# Example of how to use the ERDDAP server to get data from the Coral Reef Watch dataset\n",
    "example = \"https://pae-paha.pacioos.hawaii.edu/erddap/griddap/dhw_5km.csv?CRW_DHW[(2020-01-01T12:00:00Z):1:(2020-05-17T12:00:00Z)][(17.175):1:(17.175)][(-87.325):1:(-87.325)],CRW_SST[(2020-01-01T12:00:00Z):1:(2020-05-17T12:00:00Z)][(17.175):1:(17.175)][(-87.325):1:(-87.325)]\"\n",
    "\n",
    "\n",
    "# Let's see what we have here...\n",
    "root = 'https://pae-paha.pacioos.hawaii.edu/erddap/griddap/'\n",
    "dataset_id = 'dhw_5km.csv?'\n",
    "dhw = 'CRW_DHW'\n",
    "sst = 'CRW_SST'\n",
    "\n",
    "def date_range(start_date, end_date):\n",
    "    return f'[({start_date}T12:00:00Z):1:({end_date}T12:00:00Z)]'\n",
    "\n",
    "def lat_long_range(lat, lon):\n",
    "    return f'[({lat}):1:({lat})][({lon}):1:({lon})]'\n",
    "\n",
    "def get_url(start_date, end_date, lat, lon):\n",
    "    lat, lon = str(lat), str(lon)\n",
    "    return root + dataset_id + dhw + date_range(start_date, end_date) + lat_long_range(lat, lon) + ',' + sst + date_range(start_date, end_date) + lat_long_range(lat, lon)\n",
    "\n",
    "# test\n",
    "test = get_url('2020-01-01', '2020-05-17', '17.175', '-87.325')\n",
    "print(example == test)\n",
    "print(example)\n",
    "print(test)\n"
   ]
  },
  {
   "cell_type": "code",
   "execution_count": 2,
   "metadata": {},
   "outputs": [],
   "source": [
    "reefs = {\n",
    "    \"great\": {\n",
    "        \"lat\": -18.175,\n",
    "        \"lon\": 147.425\n",
    "    },\n",
    "    \"florida\": {\n",
    "        \"lat\": 24.675,\n",
    "        \"lon\": -81.225\n",
    "    },\n",
    "    \"belize\": {\n",
    "        \"lat\": 17.175,\n",
    "        \"lon\": -87.325\n",
    "    },\n",
    "    \"redsea\": {\n",
    "        \"lat\": 32.525,\n",
    "        \"lon\": 24.825\n",
    "    },\n",
    "    \"tubbataha\": {\n",
    "        \"lat\": 8.575,\n",
    "        \"lon\": 119.575\n",
    "    }\n",
    "}"
   ]
  },
  {
   "cell_type": "code",
   "execution_count": 3,
   "metadata": {},
   "outputs": [],
   "source": [
    "import requests\n",
    "import csv\n",
    "import io\n",
    "import pandas as pd\n",
    "import datetime\n",
    "def request_and_save(reef, start_date='1985-04-01', end_date = None, out_file = None):\n",
    "    end_date = datetime.now().strftime('%Y-%m-%d') if end_date is None else end_date\n",
    "    url = get_url(start_date, end_date, reefs[reef][\"lat\"], reefs[reef][\"lon\"])\n",
    "    response = requests.get(url)\n",
    "    if response.status_code==200:\n",
    "        data = []\n",
    "        for i, line in enumerate(csv.reader(io.StringIO(response.text))):\n",
    "            if i == 0:\n",
    "                line = [\"year\", \"month\", \"day\", \"latitude\", \"longitude\", \"dhw\", \"sst\"]\n",
    "            elif i == 1:\n",
    "                continue\n",
    "            else:\n",
    "                date = datetime.datetime.strptime(line[0], '%Y-%m-%dT%H:%M:%SZ')\n",
    "                rest = [float(i) for i in line[1:]]\n",
    "                line = [date.year, date.month, date.day] + rest\n",
    "            data.append(line)\n",
    "\n",
    "        df = pd.DataFrame(data[1:], columns=data[0])\n",
    "        fname = reef if out_file is None else out_file\n",
    "        fname = fname if fname.endswith('.csv') else fname + '.csv'\n",
    "        df.to_csv(fname, index=False)\n",
    "        return df\n",
    "    return None"
   ]
  },
  {
   "cell_type": "code",
   "execution_count": 5,
   "metadata": {},
   "outputs": [
    {
     "name": "stdout",
     "output_type": "stream",
     "text": [
      "great 2024\n",
      "request successful\n",
      "florida 2024\n",
      "request successful\n",
      "belize 2024\n",
      "request successful\n",
      "redsea 2024\n",
      "request successful\n",
      "tubbataha 2024\n",
      "request successful\n"
     ]
    }
   ],
   "source": [
    "for reef in reefs:\n",
    "    for year in range(1985, 2024+1):\n",
    "        start_date = f'{year}-04-01' if year == 1985 else f'{year}-01-01'\n",
    "        end_date = f'{year}-03-31' if year == 2024 else f'{year}-12-31'\n",
    "        print(reef, year)\n",
    "        rtn = request_and_save(reef, out_file = f\"{reef}_{year}\", start_date=start_date, end_date=end_date)\n",
    "        if rtn is not None:\n",
    "            #print(rtn.head())\n",
    "            print(\"request successful\")\n",
    "        else:\n",
    "            print(\"request failed\")"
   ]
  },
  {
   "cell_type": "code",
   "execution_count": 6,
   "metadata": {},
   "outputs": [],
   "source": [
    "# concatenate all the files\n",
    "for reef in reefs:\n",
    "    fname = reef + '_all.csv'\n",
    "    all_df = None\n",
    "    for year in range(1985, 2024+1):\n",
    "        next_df = pd.read_csv(f\"{reef}_{year}.csv\")\n",
    "        all_df = next_df if all_df is None else pd.concat([all_df, next_df])\n",
    "    all_df.to_csv(fname, index=False)"
   ]
  }
 ],
 "metadata": {
  "kernelspec": {
   "display_name": "base",
   "language": "python",
   "name": "python3"
  },
  "language_info": {
   "codemirror_mode": {
    "name": "ipython",
    "version": 3
   },
   "file_extension": ".py",
   "mimetype": "text/x-python",
   "name": "python",
   "nbconvert_exporter": "python",
   "pygments_lexer": "ipython3",
   "version": "3.11.7"
  }
 },
 "nbformat": 4,
 "nbformat_minor": 2
}
